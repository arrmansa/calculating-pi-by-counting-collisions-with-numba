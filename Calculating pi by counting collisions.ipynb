{
 "cells": [
  {
   "cell_type": "markdown",
   "id": "99ac48f9",
   "metadata": {},
   "source": [
    "# Calculating pi by counting collisions with numba\n",
    "Based on a 3Blue1Brown video and G Galperin's work. 150x speedup with numba.<br>\n",
    "Original paper https://www.maths.tcd.ie/~lebed/Galperin.%20Playing%20pool%20with%20pi.pdf<br>\n",
    "Collision formula from https://en.wikipedia.org/wiki/Elastic_collision#One-dimensional_Newtonian \n",
    "## Original Video\n",
    "https://www.youtube.com/watch?v=HEfHFsfGXjs <br>\n",
    "https://www.youtube.com/watch?v=jsYwFizhncE\n",
    "## Awesome demo\n",
    "\n",
    "https://prajwalsouza.github.io/Experiments/Colliding-Blocks.html"
   ]
  },
  {
   "cell_type": "code",
   "execution_count": 1,
   "id": "f61a5a09",
   "metadata": {},
   "outputs": [],
   "source": [
    "def collisions(m1, m2):\n",
    "    v1, v2 = 0, -1\n",
    "    mtotal, mdiff = m1 + m2, m1 - m2\n",
    "    collisions = 0\n",
    "    while v1 > v2:\n",
    "        collisions += 1 \n",
    "        v1, v2 = (v1*mdiff+2*m2*v2)/mtotal, (2*m1*v1-mdiff*v2)/mtotal\n",
    "        if v1 < 0:\n",
    "            collisions += 1 \n",
    "            v1 = -v1\n",
    "    return collisions"
   ]
  },
  {
   "cell_type": "code",
   "execution_count": 2,
   "id": "3d5db187",
   "metadata": {},
   "outputs": [
    {
     "name": "stdout",
     "output_type": "stream",
     "text": [
      "3141592\n",
      "922 ms ± 0 ns per loop (mean ± std. dev. of 1 run, 1 loop each)\n"
     ]
    }
   ],
   "source": [
    "%%timeit -n 1 -r 1\n",
    "print(collisions(1,int(1e12)))"
   ]
  },
  {
   "cell_type": "code",
   "execution_count": 3,
   "id": "a3889040",
   "metadata": {},
   "outputs": [],
   "source": [
    "#import numba\n",
    "from numba import jit\n",
    "#Changing local type does not help, fastmath = True makes it 2x faster\n",
    "@jit([\"int32(float32,float32)\"], fastmath=True)#, locals={'collisions':numba.int32})\n",
    "def collisions_jit(m1, m2):\n",
    "    v1, v2 = 0, -1\n",
    "    mtotal, mdiff = m1 + m2, m1 - m2\n",
    "    collisions = 0\n",
    "    while v1 > v2:\n",
    "        collisions += 1\n",
    "        v1, v2 = (v1*mdiff+2*m2*v2)/mtotal, (2*m1*v1-mdiff*v2)/mtotal\n",
    "        if v1 < 0:\n",
    "            collisions += 1 \n",
    "            v1 = -v1\n",
    "    return collisions"
   ]
  },
  {
   "cell_type": "code",
   "execution_count": 4,
   "id": "c57333d1",
   "metadata": {},
   "outputs": [
    {
     "name": "stdout",
     "output_type": "stream",
     "text": [
      "3141592\n",
      "6.17 ms ± 0 ns per loop (mean ± std. dev. of 1 run, 1 loop each)\n"
     ]
    }
   ],
   "source": [
    "%%timeit -n 1 -r 1\n",
    "print(collisions_jit(1,int(1e12))) #First run to compile the function"
   ]
  },
  {
   "cell_type": "code",
   "execution_count": 5,
   "id": "4e6b86fa",
   "metadata": {},
   "outputs": [
    {
     "name": "stdout",
     "output_type": "stream",
     "text": [
      "5.32 ms ± 64.4 µs per loop (mean ± std. dev. of 10 runs, 10 loops each)\n"
     ]
    }
   ],
   "source": [
    "%%timeit -n 10 -r 10\n",
    "collisions_jit(1,int(1e12))"
   ]
  }
 ],
 "metadata": {
  "kernelspec": {
   "display_name": "Python 3 (ipykernel)",
   "language": "python",
   "name": "python3"
  },
  "language_info": {
   "codemirror_mode": {
    "name": "ipython",
    "version": 3
   },
   "file_extension": ".py",
   "mimetype": "text/x-python",
   "name": "python",
   "nbconvert_exporter": "python",
   "pygments_lexer": "ipython3",
   "version": "3.7.10"
  }
 },
 "nbformat": 4,
 "nbformat_minor": 5
}
